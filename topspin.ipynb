{
  "cells": [
    {
      "cell_type": "code",
      "execution_count": 2,
      "metadata": {
        "id": "YxMrV2opL-Mn"
      },
      "outputs": [],
      "source": [
        "import numpy as np\n",
        "import matplotlib.pyplot as plt\n",
        "from scipy.integrate import odeint\n",
        "import tkinter as tk\n",
        "import math\n",
        "import sys\n",
        "import pandas as pd\n",
        "sys.setrecursionlimit(15000)\n"
      ]
    },
    {
      "cell_type": "code",
      "execution_count": 4,
      "metadata": {
        "id": "FntWBHF8MGES"
      },
      "outputs": [],
      "source": [
        "\n",
        "#Constant values\n",
        "gravity = 9.82#m/s^2\n",
        "ballMass = 0.058 #.058kg\n",
        "airDensity = (1.21) #kg/m^3\n",
        "radius = (0.033)#m\n",
        "pi = (3.14)\n",
        "crossSection =(pi * (radius**2))"
      ]
    },
    {
      "cell_type": "code",
      "execution_count": 8,
      "metadata": {
        "id": "_ZZ7_W7OMJWf",
        "colab": {
          "base_uri": "https://localhost:8080/"
        },
        "outputId": "c07c161e-0d49-4a7e-dcf3-346dbc675b02"
      },
      "outputs": [
        {
          "name": "stdout",
          "output_type": "stream",
          "text": [
            "100\n",
            "3000\n",
            "15\n"
          ]
        }
      ],
      "source": [
        "#User input from textboxes needed. Calculating spin(rpm/60 * 2pi = (rads))\n",
        "velocity_km=float(input())\n",
        "velocity = velocity_km/3.6 \n",
        "rpm = int(input())\n",
        "rps = rpm/60\n",
        "spin_rads = rps * (2*3.14)\n",
        "v_spin=(spin_rads * radius)\n",
        "k = velocity/v_spin\n",
        "apv = crossSection * airDensity * velocity\n",
        "theta_deg=float(input())\n",
        "theta =theta_deg*pi/180\n",
        "deltaT = 0.05\n"
      ]
    },
    {
      "cell_type": "code",
      "execution_count": 7,
      "metadata": {
        "id": "AkoArkHitVdJ"
      },
      "outputs": [],
      "source": [
        "#sine and cosine functions"
      ]
    },
    {
      "cell_type": "code",
      "execution_count": 9,
      "metadata": {
        "id": "l-q3L1h2MJd_"
      },
      "outputs": [],
      "source": [
        "#Lift Coefficient0.2150321215\n",
        "Cl = (1/(2.022 + (0.981*(velocity/v_spin))))"
      ]
    },
    {
      "cell_type": "code",
      "execution_count": 10,
      "metadata": {
        "id": "1oFnziskMJkm"
      },
      "outputs": [],
      "source": [
        "# #Drag Coefficient0.5376334382\n",
        "Cd = (0.508+1/(22.503+4.196*((velocity/v_spin)**2.5))**0.4)\n"
      ]
    },
    {
      "cell_type": "code",
      "execution_count": 11,
      "metadata": {
        "id": "j0VDS9COrYny"
      },
      "outputs": [],
      "source": [
        "#Fd and FL\n",
        "Fd = 1/2*(Cd * crossSection * airDensity *(velocity**2))\n",
        "Fl = 1/2*(Cl * crossSection * airDensity *(velocity**2))"
      ]
    },
    {
      "cell_type": "code",
      "execution_count": 12,
      "metadata": {
        "colab": {
          "base_uri": "https://localhost:8080/"
        },
        "id": "-nBmGH-xacAa",
        "outputId": "27a161e9-0364-48a7-ab1e-0a28bc5255f5"
      },
      "outputs": [
        {
          "output_type": "stream",
          "name": "stdout",
          "text": [
            "Drag Coefficient 0.6888721627714209\n",
            "Lift coefficient 0.2149704937334089\n",
            "Fd 1.0996298900113965\n",
            "Fl 0.34315217416936244\n",
            "cross section 0.0034194600000000005\n",
            "air density 1.21\n",
            "velocity 27.77777777777778\n"
          ]
        }
      ],
      "source": [
        "print (\"Drag Coefficient\",Cd)\n",
        "print (\"Lift coefficient\", Cl)\n",
        "print (\"Fd\", Fd)\n",
        "print (\"Fl\", Fl)\n",
        "print (\"cross section\" , crossSection)\n",
        "print (\"air density\", airDensity)\n",
        "print (\"velocity\", velocity)"
      ]
    },
    {
      "cell_type": "code",
      "execution_count": 13,
      "metadata": {
        "id": "N4DsJWLQMJp_"
      },
      "outputs": [],
      "source": [
        "#Magnus force\n",
        "magnus_force = 1/2*((Cl*crossSection*airDensity)*(velocity**2))"
      ]
    },
    {
      "cell_type": "code",
      "execution_count": 14,
      "metadata": {
        "colab": {
          "base_uri": "https://localhost:8080/"
        },
        "id": "K_JtJMsZn1d_",
        "outputId": "200f3cb0-d250-4779-e0f3-b6e92864d3c9"
      },
      "outputs": [
        {
          "output_type": "stream",
          "name": "stdout",
          "text": [
            "0.34315217416936244\n"
          ]
        }
      ],
      "source": [
        "print(magnus_force)"
      ]
    },
    {
      "cell_type": "markdown",
      "source": [
        ""
      ],
      "metadata": {
        "id": "HxT4-TgMCyit"
      }
    },
    {
      "cell_type": "code",
      "source": [
        "\n",
        "def func_topspin_vx(updated_velocity,new_theta,new_cd,new_cl,new_vx,new_vy):\n",
        "    \n",
        "    dv_dt= (0.03568659676*updated_velocity)*((-new_cd*new_vx)+(new_cl*(updated_velocity*math.sin(new_theta))))\n",
        "    return dv_dt\n",
        "def func_topspin_vy(updated_velocity,new_theta,new_cd,new_cl,new_vx,new_vy):\n",
        "    \n",
        "     dv_dt=((0.03568659676*updated_velocity)*((-new_cd*(updated_velocity*math.cos(new_theta))-(new_cl*new_vy)))- gravity)\n",
        "     return dv_dt\n",
        "\n",
        "\n"
      ],
      "metadata": {
        "id": "z3KezKh4Bd7H"
      },
      "execution_count": 21,
      "outputs": []
    },
    {
      "cell_type": "code",
      "source": [
        "def plot(userx,usery,theta,Cd,Cl,v_spin,rpm):\n",
        "  x,y=userx,usery\n",
        "  updated_velocity=velocity\n",
        "  new_theta=theta\n",
        "  new_cd=Cd\n",
        "  new_cl=Cl\n",
        "  t=0\n",
        "  vx=velocity*math.cos(theta)\n",
        "  vy=velocity*math.sin(theta)\n",
        "  e =float(input()) #needs to be user input as well .75\n",
        "  new_vx=vx\n",
        "  new_vy=vy\n",
        "  data=pd.DataFrame(columns=['x','y','t','Cd','Cl','V','Theta','vx','vy','dvx/dt','dvy/dt'])\n",
        "  \n",
        "  while y>0:\n",
        "      \n",
        "      dvx_dt=func_topspin_vx(updated_velocity,new_theta,new_cd,new_cl,new_vx,new_vy)\n",
        "      dvy_dt=func_topspin_vy(updated_velocity,new_theta,new_cd,new_cl,new_vx,new_vy)\n",
        "      \n",
        "      \n",
        "     \n",
        "      # vx and vy values\n",
        "      new_vx=vx+dvx_dt*t\n",
        "      new_vy=vy+dvy_dt*t\n",
        "      # updated theta\n",
        "      new_theta=math.atan(new_vy/new_vx)\n",
        "      # updated velocity\n",
        "      updated_velocity= new_vx/math.cos(new_theta)\n",
        "      # updated cd and cl\n",
        "      new_cd=(0.508+1/(22.503+4.196*((updated_velocity/v_spin)**2.5))**0.4)\n",
        "      new_cl=(1/(2.022 + (0.981*(updated_velocity/v_spin))))\n",
        "     \n",
        "      # co-ordinates\n",
        "      x=x+new_vx*t\n",
        "      y=y+new_vy*t\n",
        "      \n",
        "      if(y>0):\n",
        "        data=data.append({'x':x,'y':y,'t':t,'Cd':new_cd,'Cl':new_cl,'V':updated_velocity,'Theta':new_theta,'vx':new_vx,'vy':new_vy,'dvx/dt':dvx_dt,'dvy/dt':dvy_dt},ignore_index=True)\n",
        "      else:\n",
        "        break\n",
        "      if data.shape[0]==1:\n",
        "        t=deltaT\n",
        "      else:\n",
        "        t=t+deltaT\n",
        "  \n",
        "  while y>-10:\n",
        "        #bounce\n",
        "        rps = rpm/60\n",
        "        spin_rads = rps * (2*3.14)\n",
        "        vy = -e * new_vy\n",
        "        vx = new_vx - ((new_vx- .33*spin_rads)/(1+1/.55)) \n",
        "        spin_rads_bounce= spin_rads + ((new_vx - .33 *spin_rads)/(.33*(1+.55)))\n",
        "        v_spin=(spin_rads_bounce * radius)\n",
        "        \n",
        "      \n",
        "        dvx_dt=func_topspin_vx(updated_velocity,new_theta,new_cd,new_cl,new_vx,new_vy)\n",
        "        dvy_dt=func_topspin_vy(updated_velocity,new_theta,new_cd,new_cl,new_vx,new_vy)\n",
        "               \n",
        "        \n",
        "        # vx and vy values\n",
        "        new_vx=vx+dvx_dt*t\n",
        "        new_vy=vy+dvy_dt*t\n",
        "        \n",
        "        # updated theta\n",
        "        new_theta=math.atan(new_vy/new_vx)\n",
        "        \n",
        "        # updated velocity\n",
        "        updated_velocity= new_vx/math.cos(new_theta)\n",
        "        \n",
        "        # updated cd and cl\n",
        "        new_cd=(0.508+1/(22.503+4.196*((updated_velocity/v_spin)**2.5))**0.4)\n",
        "        new_cl=(1/(2.022 + (0.981*(updated_velocity/v_spin))))\n",
        "        \n",
        "        # co-ordinates\n",
        "        x=x+new_vx*t\n",
        "        y=y+new_vy*t\n",
        "        y1=abs(y)\n",
        "        if(y1>0 and y1<10):\n",
        "          data=data.append({'x':x,'y':y1,'t':t,'Cd':new_cd,'Cl':new_cl,'V':updated_velocity,'Theta':new_theta,'vx':new_vx,'vy':new_vy,'dvx/dt':dvx_dt,'dvy/dt':dvy_dt},ignore_index=True)\n",
        "        else:\n",
        "          break\n",
        "        t=t+deltaT\n",
        "\n",
        "  return data\n",
        " \n"
      ],
      "metadata": {
        "id": "GxC25k_ouUsq"
      },
      "execution_count": 22,
      "outputs": []
    },
    {
      "cell_type": "code",
      "source": [
        "userx = float(input())#26.83127295\n",
        "usery = float(input())#7.18941792\n",
        "df=plot(userx,usery,theta,Cd,Cl,v_spin,rpm)\n",
        "\n"
      ],
      "metadata": {
        "id": "gvRid3N85-C1",
        "colab": {
          "base_uri": "https://localhost:8080/"
        },
        "outputId": "daa71c92-b7e8-41ca-c1fb-25f062c2e691"
      },
      "execution_count": 23,
      "outputs": [
        {
          "name": "stdout",
          "output_type": "stream",
          "text": [
            "0\n",
            "1\n",
            "0.75\n"
          ]
        }
      ]
    },
    {
      "cell_type": "code",
      "source": [
        "df\n",
        "\n"
      ],
      "metadata": {
        "colab": {
          "base_uri": "https://localhost:8080/",
          "height": 438
        },
        "id": "ZsjlQ-R269mb",
        "outputId": "5da63b74-5fb7-4295-bb49-5406231d75b6"
      },
      "execution_count": 24,
      "outputs": [
        {
          "output_type": "execute_result",
          "data": {
            "text/plain": [
              "            x         y     t        Cd        Cl          V     Theta  \\\n",
              "0    0.000000  1.000000  0.00  0.688872  0.214970  27.777778  0.261667   \n",
              "1    1.299632  1.285107  0.05  0.694191  0.220201  26.610743  0.215954   \n",
              "2    3.823426  1.722216  0.10  0.698889  0.224875  25.613666  0.171494   \n",
              "3    7.505713  2.196167  0.15  0.703066  0.229082  24.751092  0.128007   \n",
              "4   12.287940  2.605172  0.20  0.706792  0.232883  23.998424  0.085318   \n",
              "5   18.116882  2.857788  0.25  0.710123  0.236326  23.337655  0.043311   \n",
              "6   24.943403  2.870799  0.30  0.713103  0.239447  22.755112  0.001906   \n",
              "7   32.721541  2.567691  0.35  0.715769  0.242275  22.240119 -0.038949   \n",
              "8   41.407828  1.877518  0.40  0.718153  0.244836  21.784156 -0.079289   \n",
              "9   50.960765  0.734046  0.45  0.720282  0.247150  21.380289 -0.119132   \n",
              "10  83.454218  4.792451  0.50  0.570396  0.092569  44.898901 -0.173142   \n",
              "\n",
              "           vx        vy     dvx/dt     dvy/dt  \n",
              "0   26.832227  7.185857 -16.791760 -29.674358  \n",
              "1   25.992639  5.702139 -16.791760 -29.674358  \n",
              "2   25.237937  4.371089 -15.942896 -28.147676  \n",
              "3   24.548585  3.159672 -15.224276 -26.841232  \n",
              "4   23.911132  2.045026 -14.605474 -25.704154  \n",
              "5   23.315769  1.010463 -14.065830 -24.701575  \n",
              "6   22.755070  0.043371 -13.590522 -23.808285  \n",
              "7   22.223251 -0.866022 -13.168501 -23.005368  \n",
              "8   21.715716 -1.725434 -12.791278 -22.278227  \n",
              "9   21.228750 -2.541049 -12.452171 -21.615346  \n",
              "10  44.227585 -7.735114 -11.867823 -20.447046  "
            ],
            "text/html": [
              "\n",
              "  <div id=\"df-7992c7be-58b6-4d45-9f45-9815b0de27a4\">\n",
              "    <div class=\"colab-df-container\">\n",
              "      <div>\n",
              "<style scoped>\n",
              "    .dataframe tbody tr th:only-of-type {\n",
              "        vertical-align: middle;\n",
              "    }\n",
              "\n",
              "    .dataframe tbody tr th {\n",
              "        vertical-align: top;\n",
              "    }\n",
              "\n",
              "    .dataframe thead th {\n",
              "        text-align: right;\n",
              "    }\n",
              "</style>\n",
              "<table border=\"1\" class=\"dataframe\">\n",
              "  <thead>\n",
              "    <tr style=\"text-align: right;\">\n",
              "      <th></th>\n",
              "      <th>x</th>\n",
              "      <th>y</th>\n",
              "      <th>t</th>\n",
              "      <th>Cd</th>\n",
              "      <th>Cl</th>\n",
              "      <th>V</th>\n",
              "      <th>Theta</th>\n",
              "      <th>vx</th>\n",
              "      <th>vy</th>\n",
              "      <th>dvx/dt</th>\n",
              "      <th>dvy/dt</th>\n",
              "    </tr>\n",
              "  </thead>\n",
              "  <tbody>\n",
              "    <tr>\n",
              "      <th>0</th>\n",
              "      <td>0.000000</td>\n",
              "      <td>1.000000</td>\n",
              "      <td>0.00</td>\n",
              "      <td>0.688872</td>\n",
              "      <td>0.214970</td>\n",
              "      <td>27.777778</td>\n",
              "      <td>0.261667</td>\n",
              "      <td>26.832227</td>\n",
              "      <td>7.185857</td>\n",
              "      <td>-16.791760</td>\n",
              "      <td>-29.674358</td>\n",
              "    </tr>\n",
              "    <tr>\n",
              "      <th>1</th>\n",
              "      <td>1.299632</td>\n",
              "      <td>1.285107</td>\n",
              "      <td>0.05</td>\n",
              "      <td>0.694191</td>\n",
              "      <td>0.220201</td>\n",
              "      <td>26.610743</td>\n",
              "      <td>0.215954</td>\n",
              "      <td>25.992639</td>\n",
              "      <td>5.702139</td>\n",
              "      <td>-16.791760</td>\n",
              "      <td>-29.674358</td>\n",
              "    </tr>\n",
              "    <tr>\n",
              "      <th>2</th>\n",
              "      <td>3.823426</td>\n",
              "      <td>1.722216</td>\n",
              "      <td>0.10</td>\n",
              "      <td>0.698889</td>\n",
              "      <td>0.224875</td>\n",
              "      <td>25.613666</td>\n",
              "      <td>0.171494</td>\n",
              "      <td>25.237937</td>\n",
              "      <td>4.371089</td>\n",
              "      <td>-15.942896</td>\n",
              "      <td>-28.147676</td>\n",
              "    </tr>\n",
              "    <tr>\n",
              "      <th>3</th>\n",
              "      <td>7.505713</td>\n",
              "      <td>2.196167</td>\n",
              "      <td>0.15</td>\n",
              "      <td>0.703066</td>\n",
              "      <td>0.229082</td>\n",
              "      <td>24.751092</td>\n",
              "      <td>0.128007</td>\n",
              "      <td>24.548585</td>\n",
              "      <td>3.159672</td>\n",
              "      <td>-15.224276</td>\n",
              "      <td>-26.841232</td>\n",
              "    </tr>\n",
              "    <tr>\n",
              "      <th>4</th>\n",
              "      <td>12.287940</td>\n",
              "      <td>2.605172</td>\n",
              "      <td>0.20</td>\n",
              "      <td>0.706792</td>\n",
              "      <td>0.232883</td>\n",
              "      <td>23.998424</td>\n",
              "      <td>0.085318</td>\n",
              "      <td>23.911132</td>\n",
              "      <td>2.045026</td>\n",
              "      <td>-14.605474</td>\n",
              "      <td>-25.704154</td>\n",
              "    </tr>\n",
              "    <tr>\n",
              "      <th>5</th>\n",
              "      <td>18.116882</td>\n",
              "      <td>2.857788</td>\n",
              "      <td>0.25</td>\n",
              "      <td>0.710123</td>\n",
              "      <td>0.236326</td>\n",
              "      <td>23.337655</td>\n",
              "      <td>0.043311</td>\n",
              "      <td>23.315769</td>\n",
              "      <td>1.010463</td>\n",
              "      <td>-14.065830</td>\n",
              "      <td>-24.701575</td>\n",
              "    </tr>\n",
              "    <tr>\n",
              "      <th>6</th>\n",
              "      <td>24.943403</td>\n",
              "      <td>2.870799</td>\n",
              "      <td>0.30</td>\n",
              "      <td>0.713103</td>\n",
              "      <td>0.239447</td>\n",
              "      <td>22.755112</td>\n",
              "      <td>0.001906</td>\n",
              "      <td>22.755070</td>\n",
              "      <td>0.043371</td>\n",
              "      <td>-13.590522</td>\n",
              "      <td>-23.808285</td>\n",
              "    </tr>\n",
              "    <tr>\n",
              "      <th>7</th>\n",
              "      <td>32.721541</td>\n",
              "      <td>2.567691</td>\n",
              "      <td>0.35</td>\n",
              "      <td>0.715769</td>\n",
              "      <td>0.242275</td>\n",
              "      <td>22.240119</td>\n",
              "      <td>-0.038949</td>\n",
              "      <td>22.223251</td>\n",
              "      <td>-0.866022</td>\n",
              "      <td>-13.168501</td>\n",
              "      <td>-23.005368</td>\n",
              "    </tr>\n",
              "    <tr>\n",
              "      <th>8</th>\n",
              "      <td>41.407828</td>\n",
              "      <td>1.877518</td>\n",
              "      <td>0.40</td>\n",
              "      <td>0.718153</td>\n",
              "      <td>0.244836</td>\n",
              "      <td>21.784156</td>\n",
              "      <td>-0.079289</td>\n",
              "      <td>21.715716</td>\n",
              "      <td>-1.725434</td>\n",
              "      <td>-12.791278</td>\n",
              "      <td>-22.278227</td>\n",
              "    </tr>\n",
              "    <tr>\n",
              "      <th>9</th>\n",
              "      <td>50.960765</td>\n",
              "      <td>0.734046</td>\n",
              "      <td>0.45</td>\n",
              "      <td>0.720282</td>\n",
              "      <td>0.247150</td>\n",
              "      <td>21.380289</td>\n",
              "      <td>-0.119132</td>\n",
              "      <td>21.228750</td>\n",
              "      <td>-2.541049</td>\n",
              "      <td>-12.452171</td>\n",
              "      <td>-21.615346</td>\n",
              "    </tr>\n",
              "    <tr>\n",
              "      <th>10</th>\n",
              "      <td>83.454218</td>\n",
              "      <td>4.792451</td>\n",
              "      <td>0.50</td>\n",
              "      <td>0.570396</td>\n",
              "      <td>0.092569</td>\n",
              "      <td>44.898901</td>\n",
              "      <td>-0.173142</td>\n",
              "      <td>44.227585</td>\n",
              "      <td>-7.735114</td>\n",
              "      <td>-11.867823</td>\n",
              "      <td>-20.447046</td>\n",
              "    </tr>\n",
              "  </tbody>\n",
              "</table>\n",
              "</div>\n",
              "      <button class=\"colab-df-convert\" onclick=\"convertToInteractive('df-7992c7be-58b6-4d45-9f45-9815b0de27a4')\"\n",
              "              title=\"Convert this dataframe to an interactive table.\"\n",
              "              style=\"display:none;\">\n",
              "        \n",
              "  <svg xmlns=\"http://www.w3.org/2000/svg\" height=\"24px\"viewBox=\"0 0 24 24\"\n",
              "       width=\"24px\">\n",
              "    <path d=\"M0 0h24v24H0V0z\" fill=\"none\"/>\n",
              "    <path d=\"M18.56 5.44l.94 2.06.94-2.06 2.06-.94-2.06-.94-.94-2.06-.94 2.06-2.06.94zm-11 1L8.5 8.5l.94-2.06 2.06-.94-2.06-.94L8.5 2.5l-.94 2.06-2.06.94zm10 10l.94 2.06.94-2.06 2.06-.94-2.06-.94-.94-2.06-.94 2.06-2.06.94z\"/><path d=\"M17.41 7.96l-1.37-1.37c-.4-.4-.92-.59-1.43-.59-.52 0-1.04.2-1.43.59L10.3 9.45l-7.72 7.72c-.78.78-.78 2.05 0 2.83L4 21.41c.39.39.9.59 1.41.59.51 0 1.02-.2 1.41-.59l7.78-7.78 2.81-2.81c.8-.78.8-2.07 0-2.86zM5.41 20L4 18.59l7.72-7.72 1.47 1.35L5.41 20z\"/>\n",
              "  </svg>\n",
              "      </button>\n",
              "      \n",
              "  <style>\n",
              "    .colab-df-container {\n",
              "      display:flex;\n",
              "      flex-wrap:wrap;\n",
              "      gap: 12px;\n",
              "    }\n",
              "\n",
              "    .colab-df-convert {\n",
              "      background-color: #E8F0FE;\n",
              "      border: none;\n",
              "      border-radius: 50%;\n",
              "      cursor: pointer;\n",
              "      display: none;\n",
              "      fill: #1967D2;\n",
              "      height: 32px;\n",
              "      padding: 0 0 0 0;\n",
              "      width: 32px;\n",
              "    }\n",
              "\n",
              "    .colab-df-convert:hover {\n",
              "      background-color: #E2EBFA;\n",
              "      box-shadow: 0px 1px 2px rgba(60, 64, 67, 0.3), 0px 1px 3px 1px rgba(60, 64, 67, 0.15);\n",
              "      fill: #174EA6;\n",
              "    }\n",
              "\n",
              "    [theme=dark] .colab-df-convert {\n",
              "      background-color: #3B4455;\n",
              "      fill: #D2E3FC;\n",
              "    }\n",
              "\n",
              "    [theme=dark] .colab-df-convert:hover {\n",
              "      background-color: #434B5C;\n",
              "      box-shadow: 0px 1px 3px 1px rgba(0, 0, 0, 0.15);\n",
              "      filter: drop-shadow(0px 1px 2px rgba(0, 0, 0, 0.3));\n",
              "      fill: #FFFFFF;\n",
              "    }\n",
              "  </style>\n",
              "\n",
              "      <script>\n",
              "        const buttonEl =\n",
              "          document.querySelector('#df-7992c7be-58b6-4d45-9f45-9815b0de27a4 button.colab-df-convert');\n",
              "        buttonEl.style.display =\n",
              "          google.colab.kernel.accessAllowed ? 'block' : 'none';\n",
              "\n",
              "        async function convertToInteractive(key) {\n",
              "          const element = document.querySelector('#df-7992c7be-58b6-4d45-9f45-9815b0de27a4');\n",
              "          const dataTable =\n",
              "            await google.colab.kernel.invokeFunction('convertToInteractive',\n",
              "                                                     [key], {});\n",
              "          if (!dataTable) return;\n",
              "\n",
              "          const docLinkHtml = 'Like what you see? Visit the ' +\n",
              "            '<a target=\"_blank\" href=https://colab.research.google.com/notebooks/data_table.ipynb>data table notebook</a>'\n",
              "            + ' to learn more about interactive tables.';\n",
              "          element.innerHTML = '';\n",
              "          dataTable['output_type'] = 'display_data';\n",
              "          await google.colab.output.renderOutput(dataTable, element);\n",
              "          const docLink = document.createElement('div');\n",
              "          docLink.innerHTML = docLinkHtml;\n",
              "          element.appendChild(docLink);\n",
              "        }\n",
              "      </script>\n",
              "    </div>\n",
              "  </div>\n",
              "  "
            ]
          },
          "metadata": {},
          "execution_count": 24
        }
      ]
    },
    {
      "cell_type": "markdown",
      "source": [
        "# New Section"
      ],
      "metadata": {
        "id": "IbU52rJywUrk"
      }
    },
    {
      "cell_type": "code",
      "source": [
        "df.plot('x','y')\n"
      ],
      "metadata": {
        "colab": {
          "base_uri": "https://localhost:8080/",
          "height": 296
        },
        "id": "5mOG_6l_82N1",
        "outputId": "1ea7306b-217b-4320-b1ca-c6ed4dbd9bce"
      },
      "execution_count": 25,
      "outputs": [
        {
          "output_type": "execute_result",
          "data": {
            "text/plain": [
              "<matplotlib.axes._subplots.AxesSubplot at 0x7ff372dad450>"
            ]
          },
          "metadata": {},
          "execution_count": 25
        },
        {
          "output_type": "display_data",
          "data": {
            "text/plain": [
              "<Figure size 432x288 with 1 Axes>"
            ],
            "image/png": "[encoded data removed]"
          },
          "metadata": {
            "needs_background": "light"
          }
        }
      ]
    },
    {
      "cell_type": "code",
      "source": [
        "df.to_csv('Topspindata.csv',encoding = 'utf-8-sig')"
      ],
      "metadata": {
        "id": "1gHMQ3Wr5ob-"
      },
      "execution_count": 68,
      "outputs": []
    }
  ],
  "metadata": {
    "colab": {
      "collapsed_sections": [],
      "name": "Topspin.ipynb",
      "provenance": [],
      "toc_visible": true
    },
    "kernelspec": {
      "display_name": "Python 3",
      "name": "python3"
    },
    "language_info": {
      "name": "python"
    },
    "accelerator": "GPU"
  },
  "nbformat": 4,
  "nbformat_minor": 0
}